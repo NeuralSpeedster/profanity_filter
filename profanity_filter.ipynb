{
 "cells": [
  {
   "cell_type": "markdown",
   "id": "2a54d3b5-8185-4a5f-849a-d0440d89e9aa",
   "metadata": {},
   "source": [
    "# Фильтр нецензурной лексики на основе эмбеддингов слов\n",
    "\n",
    "## Загрузим готовые эмбеддинги для русского языка"
   ]
  },
  {
   "cell_type": "code",
   "execution_count": 1,
   "id": "0e99423c-cc76-49ef-bf00-f247ad232abb",
   "metadata": {},
   "outputs": [],
   "source": [
    "import fasttext\n",
    "import fasttext.util"
   ]
  },
  {
   "cell_type": "code",
   "execution_count": 16,
   "id": "f328599f-c88f-4c1f-8266-da09515b28fb",
   "metadata": {},
   "outputs": [
    {
     "data": {
      "text/plain": [
       "'cc.ru.300.bin'"
      ]
     },
     "execution_count": 16,
     "metadata": {},
     "output_type": "execute_result"
    }
   ],
   "source": [
    "fasttext.util.download_model('ru', if_exists='ignore')"
   ]
  },
  {
   "cell_type": "code",
   "execution_count": 2,
   "id": "0b37bb77-8f89-48d0-ac29-bab410196040",
   "metadata": {},
   "outputs": [],
   "source": [
    "ft = fasttext.load_model('cc.ru.300.bin')"
   ]
  },
  {
   "cell_type": "code",
   "execution_count": 3,
   "id": "d8089265-68b5-4ad0-b0d2-b1a0b6db701d",
   "metadata": {},
   "outputs": [
    {
     "data": {
      "text/plain": [
       "(300,)"
      ]
     },
     "execution_count": 3,
     "metadata": {},
     "output_type": "execute_result"
    }
   ],
   "source": [
    "ft.get_word_vector('привет').shape"
   ]
  },
  {
   "cell_type": "markdown",
   "id": "17dfd3cd-e3a6-4536-aa0d-6cb80ea0fe6f",
   "metadata": {},
   "source": [
    "## Создадим датасет"
   ]
  },
  {
   "cell_type": "code",
   "execution_count": 15,
   "id": "22e41196-4cf5-4b2e-9155-1048f93fdbe3",
   "metadata": {},
   "outputs": [
    {
     "data": {
      "application/vnd.jupyter.widget-view+json": {
       "model_id": "863c066a781f4885b6180ae87d5e0357",
       "version_major": 2,
       "version_minor": 0
      },
      "text/plain": [
       "en-00000-of-00001.parquet:   0%|          | 0.00/267k [00:00<?, ?B/s]"
      ]
     },
     "metadata": {},
     "output_type": "display_data"
    },
    {
     "data": {
      "application/vnd.jupyter.widget-view+json": {
       "model_id": "fd233625b05e4b228fa9f4b17aaead07",
       "version_major": 2,
       "version_minor": 0
      },
      "text/plain": [
       "ru-00000-of-00001.parquet:   0%|          | 0.00/388k [00:00<?, ?B/s]"
      ]
     },
     "metadata": {},
     "output_type": "display_data"
    },
    {
     "data": {
      "application/vnd.jupyter.widget-view+json": {
       "model_id": "e1a8b967731745fd9ceba0a3353fc82b",
       "version_major": 2,
       "version_minor": 0
      },
      "text/plain": [
       "uk-00000-of-00001.parquet:   0%|          | 0.00/360k [00:00<?, ?B/s]"
      ]
     },
     "metadata": {},
     "output_type": "display_data"
    },
    {
     "data": {
      "application/vnd.jupyter.widget-view+json": {
       "model_id": "23a6a5848f374926867f1d75628d37c0",
       "version_major": 2,
       "version_minor": 0
      },
      "text/plain": [
       "de-00000-of-00001.parquet:   0%|          | 0.00/614k [00:00<?, ?B/s]"
      ]
     },
     "metadata": {},
     "output_type": "display_data"
    },
    {
     "data": {
      "application/vnd.jupyter.widget-view+json": {
       "model_id": "55b24c2e022a4758a8c975094b198c0e",
       "version_major": 2,
       "version_minor": 0
      },
      "text/plain": [
       "es-00000-of-00001.parquet:   0%|          | 0.00/641k [00:00<?, ?B/s]"
      ]
     },
     "metadata": {},
     "output_type": "display_data"
    },
    {
     "data": {
      "application/vnd.jupyter.widget-view+json": {
       "model_id": "ac3b2ee1af874ef98eaac1dac46f66b0",
       "version_major": 2,
       "version_minor": 0
      },
      "text/plain": [
       "am-00000-of-00001.parquet:   0%|          | 0.00/607k [00:00<?, ?B/s]"
      ]
     },
     "metadata": {},
     "output_type": "display_data"
    },
    {
     "data": {
      "application/vnd.jupyter.widget-view+json": {
       "model_id": "d6bbe2d841304f81a370e90e643af632",
       "version_major": 2,
       "version_minor": 0
      },
      "text/plain": [
       "zh-00000-of-00001.parquet:   0%|          | 0.00/248k [00:00<?, ?B/s]"
      ]
     },
     "metadata": {},
     "output_type": "display_data"
    },
    {
     "data": {
      "application/vnd.jupyter.widget-view+json": {
       "model_id": "c8b79b0f53e94e7eb6fd5b3da4c5b6cf",
       "version_major": 2,
       "version_minor": 0
      },
      "text/plain": [
       "ar-00000-of-00001.parquet:   0%|          | 0.00/503k [00:00<?, ?B/s]"
      ]
     },
     "metadata": {},
     "output_type": "display_data"
    },
    {
     "data": {
      "application/vnd.jupyter.widget-view+json": {
       "model_id": "7bbdaf1dd33c41e3b93221b2d05dd610",
       "version_major": 2,
       "version_minor": 0
      },
      "text/plain": [
       "hi-00000-of-00001.parquet:   0%|          | 0.00/800k [00:00<?, ?B/s]"
      ]
     },
     "metadata": {},
     "output_type": "display_data"
    },
    {
     "data": {
      "application/vnd.jupyter.widget-view+json": {
       "model_id": "6e922199364549b4a9b9bc6b0ca58773",
       "version_major": 2,
       "version_minor": 0
      },
      "text/plain": [
       "it-00000-of-00001.parquet:   0%|          | 0.00/522k [00:00<?, ?B/s]"
      ]
     },
     "metadata": {},
     "output_type": "display_data"
    },
    {
     "data": {
      "application/vnd.jupyter.widget-view+json": {
       "model_id": "83e5e0c3226b48008a6009d73828b263",
       "version_major": 2,
       "version_minor": 0
      },
      "text/plain": [
       "fr-00000-of-00001.parquet:   0%|          | 0.00/388k [00:00<?, ?B/s]"
      ]
     },
     "metadata": {},
     "output_type": "display_data"
    },
    {
     "data": {
      "application/vnd.jupyter.widget-view+json": {
       "model_id": "45418146f9b9413da63ea5fb39917365",
       "version_major": 2,
       "version_minor": 0
      },
      "text/plain": [
       "he-00000-of-00001.parquet:   0%|          | 0.00/129k [00:00<?, ?B/s]"
      ]
     },
     "metadata": {},
     "output_type": "display_data"
    },
    {
     "data": {
      "application/vnd.jupyter.widget-view+json": {
       "model_id": "0f0d998828c04a77b98bb25c65f57367",
       "version_major": 2,
       "version_minor": 0
      },
      "text/plain": [
       "hin-00000-of-00001.parquet:   0%|          | 0.00/473k [00:00<?, ?B/s]"
      ]
     },
     "metadata": {},
     "output_type": "display_data"
    },
    {
     "data": {
      "application/vnd.jupyter.widget-view+json": {
       "model_id": "a95217edc3254e92a6134554ab494464",
       "version_major": 2,
       "version_minor": 0
      },
      "text/plain": [
       "tt-00000-of-00001.parquet:   0%|          | 0.00/411k [00:00<?, ?B/s]"
      ]
     },
     "metadata": {},
     "output_type": "display_data"
    },
    {
     "data": {
      "application/vnd.jupyter.widget-view+json": {
       "model_id": "8dd5060e6d6f428fb46970916f32c85f",
       "version_major": 2,
       "version_minor": 0
      },
      "text/plain": [
       "ja-00000-of-00001.parquet:   0%|          | 0.00/451k [00:00<?, ?B/s]"
      ]
     },
     "metadata": {},
     "output_type": "display_data"
    },
    {
     "data": {
      "application/vnd.jupyter.widget-view+json": {
       "model_id": "13bfca0bba3540b38ae69a969a39a986",
       "version_major": 2,
       "version_minor": 0
      },
      "text/plain": [
       "Generating en split:   0%|          | 0/5000 [00:00<?, ? examples/s]"
      ]
     },
     "metadata": {},
     "output_type": "display_data"
    },
    {
     "data": {
      "application/vnd.jupyter.widget-view+json": {
       "model_id": "a4ab1fc64835410099159d8b5ebd67a8",
       "version_major": 2,
       "version_minor": 0
      },
      "text/plain": [
       "Generating ru split:   0%|          | 0/5000 [00:00<?, ? examples/s]"
      ]
     },
     "metadata": {},
     "output_type": "display_data"
    },
    {
     "data": {
      "application/vnd.jupyter.widget-view+json": {
       "model_id": "b50df6106f7d49f28d67e788e1dbe201",
       "version_major": 2,
       "version_minor": 0
      },
      "text/plain": [
       "Generating uk split:   0%|          | 0/5000 [00:00<?, ? examples/s]"
      ]
     },
     "metadata": {},
     "output_type": "display_data"
    },
    {
     "data": {
      "application/vnd.jupyter.widget-view+json": {
       "model_id": "d7dc50e72cff439ba835d611ff3ef966",
       "version_major": 2,
       "version_minor": 0
      },
      "text/plain": [
       "Generating de split:   0%|          | 0/5000 [00:00<?, ? examples/s]"
      ]
     },
     "metadata": {},
     "output_type": "display_data"
    },
    {
     "data": {
      "application/vnd.jupyter.widget-view+json": {
       "model_id": "76fa930b15f34e628146d549db191d1a",
       "version_major": 2,
       "version_minor": 0
      },
      "text/plain": [
       "Generating es split:   0%|          | 0/5000 [00:00<?, ? examples/s]"
      ]
     },
     "metadata": {},
     "output_type": "display_data"
    },
    {
     "data": {
      "application/vnd.jupyter.widget-view+json": {
       "model_id": "57b77bbe447a4836b02fa792cd0ffd0f",
       "version_major": 2,
       "version_minor": 0
      },
      "text/plain": [
       "Generating am split:   0%|          | 0/5000 [00:00<?, ? examples/s]"
      ]
     },
     "metadata": {},
     "output_type": "display_data"
    },
    {
     "data": {
      "application/vnd.jupyter.widget-view+json": {
       "model_id": "efa464fd59534902866cb829c48294da",
       "version_major": 2,
       "version_minor": 0
      },
      "text/plain": [
       "Generating zh split:   0%|          | 0/5000 [00:00<?, ? examples/s]"
      ]
     },
     "metadata": {},
     "output_type": "display_data"
    },
    {
     "data": {
      "application/vnd.jupyter.widget-view+json": {
       "model_id": "3dd84fe869ab4807bfcfdc669bbc43eb",
       "version_major": 2,
       "version_minor": 0
      },
      "text/plain": [
       "Generating ar split:   0%|          | 0/5000 [00:00<?, ? examples/s]"
      ]
     },
     "metadata": {},
     "output_type": "display_data"
    },
    {
     "data": {
      "application/vnd.jupyter.widget-view+json": {
       "model_id": "f310da247248480c981c97b6f80255af",
       "version_major": 2,
       "version_minor": 0
      },
      "text/plain": [
       "Generating hi split:   0%|          | 0/5000 [00:00<?, ? examples/s]"
      ]
     },
     "metadata": {},
     "output_type": "display_data"
    },
    {
     "data": {
      "application/vnd.jupyter.widget-view+json": {
       "model_id": "0888a86c0c8743d2a97e029817a0a1ec",
       "version_major": 2,
       "version_minor": 0
      },
      "text/plain": [
       "Generating it split:   0%|          | 0/5000 [00:00<?, ? examples/s]"
      ]
     },
     "metadata": {},
     "output_type": "display_data"
    },
    {
     "data": {
      "application/vnd.jupyter.widget-view+json": {
       "model_id": "99abd55d167d4d7cb482d641f19d1ffb",
       "version_major": 2,
       "version_minor": 0
      },
      "text/plain": [
       "Generating fr split:   0%|          | 0/5000 [00:00<?, ? examples/s]"
      ]
     },
     "metadata": {},
     "output_type": "display_data"
    },
    {
     "data": {
      "application/vnd.jupyter.widget-view+json": {
       "model_id": "f9e36e704db44364963ea9097030dd62",
       "version_major": 2,
       "version_minor": 0
      },
      "text/plain": [
       "Generating he split:   0%|          | 0/2011 [00:00<?, ? examples/s]"
      ]
     },
     "metadata": {},
     "output_type": "display_data"
    },
    {
     "data": {
      "application/vnd.jupyter.widget-view+json": {
       "model_id": "494c52cfa4814cd5a9c22ce09d7b46ff",
       "version_major": 2,
       "version_minor": 0
      },
      "text/plain": [
       "Generating hin split:   0%|          | 0/4363 [00:00<?, ? examples/s]"
      ]
     },
     "metadata": {},
     "output_type": "display_data"
    },
    {
     "data": {
      "application/vnd.jupyter.widget-view+json": {
       "model_id": "c11cd457eca14526bffc885ddc293f26",
       "version_major": 2,
       "version_minor": 0
      },
      "text/plain": [
       "Generating tt split:   0%|          | 0/5000 [00:00<?, ? examples/s]"
      ]
     },
     "metadata": {},
     "output_type": "display_data"
    },
    {
     "data": {
      "application/vnd.jupyter.widget-view+json": {
       "model_id": "33e012f2f6644991b6b300e6592e5472",
       "version_major": 2,
       "version_minor": 0
      },
      "text/plain": [
       "Generating ja split:   0%|          | 0/5000 [00:00<?, ? examples/s]"
      ]
     },
     "metadata": {},
     "output_type": "display_data"
    }
   ],
   "source": [
    "from datasets import load_dataset\n",
    "\n",
    "ds = load_dataset(\"textdetox/multilingual_toxicity_dataset\", \"default\")"
   ]
  },
  {
   "cell_type": "code",
   "execution_count": 27,
   "id": "9a908ead-1a0a-4f73-a348-59ee5487cf00",
   "metadata": {},
   "outputs": [
    {
     "data": {
      "text/plain": [
       "Dataset({\n",
       "    features: ['text', 'toxic'],\n",
       "    num_rows: 5000\n",
       "})"
      ]
     },
     "execution_count": 27,
     "metadata": {},
     "output_type": "execute_result"
    }
   ],
   "source": [
    "ru_ds = ds['ru']\n",
    "ru_ds"
   ]
  },
  {
   "cell_type": "code",
   "execution_count": 29,
   "id": "1c4c6083-f18a-4a69-8367-59e74c70190b",
   "metadata": {},
   "outputs": [],
   "source": [
    "import random\n",
    "\n",
    "items = list(ru_ds)\n",
    "random.shuffle(items)\n",
    "\n",
    "TRAIN = 0.8\n",
    "split_index = int(TRAIN * len(items))\n",
    "train_items = items[:split_index]\n",
    "test_items = items[split_index:]"
   ]
  },
  {
   "cell_type": "code",
   "execution_count": 34,
   "id": "e34751fb-df19-4e43-a99d-cb145190bf8b",
   "metadata": {},
   "outputs": [],
   "source": [
    "def save_fasttext(items: list[dict], filename: str) -> None:\n",
    "    \"\"\"\n",
    "    Записывает датасет в файл в формате fasttext\n",
    "    \"\"\"\n",
    "    with open(filename, 'wt', encoding='utf-8') as f:\n",
    "        for item in items:\n",
    "            tag = \"__label__toxic\" if item[\"toxic\"] else \"__label__clean\"\n",
    "            f.write(f\"{tag} {item['text']}\\n\")\n",
    "\n",
    "save_fasttext(train_items, 'train.txt')\n",
    "save_fasttext(test_items, 'test.txt')"
   ]
  },
  {
   "cell_type": "code",
   "execution_count": 56,
   "id": "d12b4e40-0f91-4081-9967-69834917a0dd",
   "metadata": {},
   "outputs": [],
   "source": [
    "model = fasttext.train_supervised(\n",
    "    input=\"train.txt\",\n",
    "    lr=0.2,\n",
    "    epoch=50,\n",
    "    wordNgrams=2, \n",
    "    verbose=2,\n",
    "    loss='softmax'\n",
    ")\n",
    "\n",
    "model.save_model(\"toxity_model.bin\")"
   ]
  },
  {
   "cell_type": "code",
   "execution_count": 57,
   "id": "bb7294e6-964a-48b8-8393-4f12b2d307cf",
   "metadata": {},
   "outputs": [
    {
     "name": "stdout",
     "output_type": "stream",
     "text": [
      "Samples: 1000\n",
      "Precision@1: 0.7770\n",
      "Recall@1: 0.7770\n"
     ]
    }
   ],
   "source": [
    "def evaluate(model, test_file):\n",
    "    result = model.test(test_file)\n",
    "    print(f\"Samples: {result[0]}\")\n",
    "    print(f\"Precision@1: {result[1]:.4f}\")\n",
    "    print(f\"Recall@1: {result[2]:.4f}\")\n",
    "\n",
    "evaluate(model, \"test.txt\")"
   ]
  },
  {
   "cell_type": "code",
   "execution_count": 41,
   "id": "83d7bf1d-8da8-4e25-9eba-43b9632877f0",
   "metadata": {},
   "outputs": [
    {
     "name": "stdout",
     "output_type": "stream",
     "text": [
      "(('__label__toxic',), array([1.00001001]))\n",
      "(('__label__clean',), array([1.00000978]))\n"
     ]
    }
   ],
   "source": [
    "print(model.predict(\"ты дурак\"))\n",
    "print(model.predict(\"спасибо за помощь\"))"
   ]
  },
  {
   "cell_type": "code",
   "execution_count": 58,
   "id": "27049ea3-953b-4403-8a41-cb9fc6c3df6b",
   "metadata": {},
   "outputs": [],
   "source": [
    "def classify_toxicity(text, threshold=0.6):\n",
    "    label, prob = model.predict(text)\n",
    "    label = label[0].replace(\"__label__\", \"\")\n",
    "    score = prob[0]\n",
    "    is_toxic = (label == \"toxic\" and score >= threshold)\n",
    "    return {\n",
    "        \"label\": label,\n",
    "        \"score\": round(score, 4),\n",
    "        \"toxic\": is_toxic\n",
    "    }"
   ]
  },
  {
   "cell_type": "code",
   "execution_count": 59,
   "id": "b555018b-6279-44ba-8e25-cd899c16e419",
   "metadata": {},
   "outputs": [
    {
     "data": {
      "text/plain": [
       "{'label': 'toxic', 'score': 1.0, 'toxic': True}"
      ]
     },
     "execution_count": 59,
     "metadata": {},
     "output_type": "execute_result"
    }
   ],
   "source": [
    "classify_toxicity('что за дебилизм')"
   ]
  },
  {
   "cell_type": "code",
   "execution_count": 68,
   "id": "51cc7710-449f-48c7-9cb1-cf35d570ed70",
   "metadata": {},
   "outputs": [
    {
     "data": {
      "text/plain": [
       "{'label': 'clean', 'score': 0.9991, 'toxic': False}"
      ]
     },
     "execution_count": 68,
     "metadata": {},
     "output_type": "execute_result"
    }
   ],
   "source": [
    "classify_toxicity('можешь играть пеккой завтра')"
   ]
  },
  {
   "cell_type": "code",
   "execution_count": null,
   "id": "e5c2f527-b63a-4900-a48c-d00c58a8f57d",
   "metadata": {},
   "outputs": [],
   "source": []
  }
 ],
 "metadata": {
  "kernelspec": {
   "display_name": "Python 3 (ipykernel)",
   "language": "python",
   "name": "python3"
  },
  "language_info": {
   "codemirror_mode": {
    "name": "ipython",
    "version": 3
   },
   "file_extension": ".py",
   "mimetype": "text/x-python",
   "name": "python",
   "nbconvert_exporter": "python",
   "pygments_lexer": "ipython3",
   "version": "3.12.10"
  }
 },
 "nbformat": 4,
 "nbformat_minor": 5
}
